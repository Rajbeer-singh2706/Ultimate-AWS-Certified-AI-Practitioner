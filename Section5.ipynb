{
 "cells": [
  {
   "cell_type": "markdown",
   "metadata": {},
   "source": [
    "# **Section 5: Amazon Bedrock and Generative AI(GenAI)**"
   ]
  },
  {
   "cell_type": "markdown",
   "metadata": {},
   "source": [
    "### 20: Section Introduction\n",
    "### 21: What is Generative AI(GEN AI)\n",
    "* Foundation Model \n",
    "* Large Language Model "
   ]
  },
  {
   "cell_type": "markdown",
   "metadata": {},
   "source": [
    "### 22. Amazon Bedrock Overview"
   ]
  },
  {
   "cell_type": "markdown",
   "metadata": {},
   "source": [
    "### **23. Amazon Bedrock handsON**"
   ]
  },
  {
   "cell_type": "markdown",
   "metadata": {},
   "source": [
    "### **24. Amazon Bedrock - Foundation Model(FM)**\n",
    "### **25. Amazon Bedrock - Foundation Model(FM)- Hands ON**\n",
    "### **26. Amazon Bedrock - Fine Tuning a Model**"
   ]
  },
  {
   "cell_type": "markdown",
   "metadata": {},
   "source": [
    "### **27. Amazon Bedrock - FM Evaluation**\n",
    "### **28. Amazon Bedrock - FM Evaluation - Hands ON**"
   ]
  },
  {
   "cell_type": "markdown",
   "metadata": {},
   "source": [
    "### **29. Amazon Bedrock - RAG & Knowlege Base**\n",
    "### **30. Amazon Bedrock - RAG & Knowlege Base - Hands ON**"
   ]
  }
 ],
 "metadata": {
  "language_info": {
   "name": "python"
  }
 },
 "nbformat": 4,
 "nbformat_minor": 2
}
