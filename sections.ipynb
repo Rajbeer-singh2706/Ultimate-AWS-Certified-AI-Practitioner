{
 "cells": [
  {
   "cell_type": "markdown",
   "metadata": {},
   "source": [
    "# Section 1: Artificial Intelligence & Course Introduction"
   ]
  }
 ],
 "metadata": {
  "language_info": {
   "name": "python"
  }
 },
 "nbformat": 4,
 "nbformat_minor": 2
}
